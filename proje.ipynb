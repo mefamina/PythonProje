{
 "cells": [
  {
   "cell_type": "code",
   "execution_count": null,
   "metadata": {},
   "outputs": [],
   "source": [
    "vatandaslik = input(\"Türkiye Cumhuriyeti vatandaş mısınız? (evet/hayır) \")\n",
    "if vatandaslik.lower() != \"evet\":\n",
    "    print(\"Sadece Türkiye Cumhuriyeti vatandaşlari oy kullanabilir.\")\n",
    "else:\n",
    "    \n",
    "    ad = input(\"Adiniz yaziniz: \")\n",
    "    soyad = input(\"Soyadiniz yaziniz: \")\n",
    "    yas = int(input(\"Yaşinizi giriniz: \"))\n",
    "    tc_kimlik = input(\"TC Kimlik Numaranizi giriniz: \")\n",
    "\n",
    "   \n",
    "    if len(tc_kimlik) != 11 or not tc_kimlik.isdigit():\n",
    "        print(\"TC kimlik numaranizi kontrol ediniz hata olabilir.\")\n",
    "    else:\n",
    "        \n",
    "        if yas < 18:\n",
    "            print(\"Sadece 18 yaş ve üzeri vatandaşlar oy kullanabilir.\")\n",
    "        else:\n",
    "           \n",
    "            print(\"Sayın \" + ad + \" \" + soyad + \", oy kullanabilirsiniz.\")"
   ]
  }
 ],
 "metadata": {
  "language_info": {
   "name": "python"
  },
  "orig_nbformat": 4
 },
 "nbformat": 4,
 "nbformat_minor": 2
}
